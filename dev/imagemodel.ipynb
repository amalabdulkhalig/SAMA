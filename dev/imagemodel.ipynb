{
 "cells": [
  {
   "cell_type": "code",
   "execution_count": 54,
   "metadata": {},
   "outputs": [],
   "source": [
    "import keras as tf\n",
    "from tensorflow import keras \n",
    "from keras.models import Sequential\n",
    "from keras.layers import Dense,Flatten,Conv2D, MaxPooling2D, Dropout\n",
    "from keras import layers\n",
    "from keras.utils import to_categorical\n",
    "import numpy as np\n",
    "import matplotlib.pyplot as plt\n"
   ]
  },
  {
   "cell_type": "markdown",
   "metadata": {},
   "source": [
    "---\n",
    "## Image loading and Preprocessing\n",
    "---"
   ]
  },
  {
   "cell_type": "code",
   "execution_count": 57,
   "metadata": {},
   "outputs": [],
   "source": [
    "from keras.datasets import cifar10\n",
    "(x_train,y_train), (x_test,y_test) = cifar10.load_data()"
   ]
  },
  {
   "cell_type": "code",
   "execution_count": 62,
   "metadata": {},
   "outputs": [],
   "source": [
    "#scale down the image RGB from 255 to values between 0-1\n",
    "x_train = x_train/255\n",
    "x_test = x_test/255\n",
    "\n",
    "#encode the labels using one-hot-encoding method \n",
    "#we have 10 labels from 0 to 9 \n",
    "y_train_one_hot = to_categorical(y_train)\n",
    "y_test_one_hot = to_categorical(y_test)"
   ]
  },
  {
   "cell_type": "markdown",
   "metadata": {},
   "source": [
    "---\n",
    "## CNN MODEL (LeNet)\n",
    "---"
   ]
  },
  {
   "cell_type": "code",
   "execution_count": 69,
   "metadata": {},
   "outputs": [],
   "source": [
    "#create the model \n",
    "#the LeNet CNN Model\n",
    "model = Sequential()\n",
    "#feature extractor layer\n",
    "model.add(Conv2D(32, (5,5), activation='relu', strides=1, padding='same', input_shape=(32,32,3)))\n",
    "model.add(MaxPooling2D(pool_size = (2,2),strides=2))\n",
    "model.add(Conv2D(32, (5,5),strides=1, padding='same', activation='relu'))\n",
    "model.add(MaxPooling2D(pool_size = (2,2)))\n",
    "model.add(Flatten())\n",
    "model.add(Dense(1000,activation='relu'))\n",
    "#model.add(Dropout(0.5))\n",
    "model.add(Dense(500,activation='relu'))\n",
    "#model.add(Dropout(0.5))\n",
    "model.add(Dense(250,activation='relu'))\n",
    "model.add(Dense(10,activation='softmax')) #becouse we have 10 catigories \n"
   ]
  },
  {
   "cell_type": "code",
   "execution_count": 70,
   "metadata": {},
   "outputs": [],
   "source": [
    "# compile the model\n",
    "model.compile(loss ='categorical_crossentropy',\n",
    "              optimizer='adam',\n",
    "              metrics=['accuracy'])"
   ]
  },
  {
   "cell_type": "code",
   "execution_count": 71,
   "metadata": {},
   "outputs": [
    {
     "name": "stdout",
     "output_type": "stream",
     "text": [
      "Epoch 1/10\n",
      "157/157 [==============================] - 15s 92ms/step - loss: 1.6378 - accuracy: 0.4007 - val_loss: 1.4284 - val_accuracy: 0.4786\n",
      "Epoch 2/10\n",
      "157/157 [==============================] - 18s 116ms/step - loss: 1.2270 - accuracy: 0.5570 - val_loss: 1.2074 - val_accuracy: 0.5728\n",
      "Epoch 3/10\n",
      "157/157 [==============================] - 18s 117ms/step - loss: 1.0204 - accuracy: 0.6370 - val_loss: 1.0275 - val_accuracy: 0.6382\n",
      "Epoch 4/10\n",
      "157/157 [==============================] - 23s 148ms/step - loss: 0.8824 - accuracy: 0.6913 - val_loss: 0.9527 - val_accuracy: 0.6708\n",
      "Epoch 5/10\n",
      "157/157 [==============================] - 20s 126ms/step - loss: 0.7367 - accuracy: 0.7410 - val_loss: 0.9582 - val_accuracy: 0.6739\n",
      "Epoch 6/10\n",
      "157/157 [==============================] - 18s 116ms/step - loss: 0.6139 - accuracy: 0.7836 - val_loss: 0.9585 - val_accuracy: 0.6770\n",
      "Epoch 7/10\n",
      "157/157 [==============================] - 18s 117ms/step - loss: 0.4784 - accuracy: 0.8316 - val_loss: 0.9954 - val_accuracy: 0.6909\n",
      "Epoch 8/10\n",
      "157/157 [==============================] - 18s 117ms/step - loss: 0.3519 - accuracy: 0.8777 - val_loss: 1.0671 - val_accuracy: 0.6878\n",
      "Epoch 9/10\n",
      "157/157 [==============================] - 18s 117ms/step - loss: 0.2457 - accuracy: 0.9148 - val_loss: 1.2043 - val_accuracy: 0.6911\n",
      "Epoch 10/10\n",
      "157/157 [==============================] - 18s 116ms/step - loss: 0.1713 - accuracy: 0.9423 - val_loss: 1.3302 - val_accuracy: 0.6801\n"
     ]
    }
   ],
   "source": [
    "#train the model \n",
    "\n",
    "hist = model.fit(x_train, \n",
    "                 y_train_one_hot,\n",
    "                 batch_size=256,\n",
    "                 epochs = 10,\n",
    "                 validation_split = 0.2)"
   ]
  },
  {
   "cell_type": "code",
   "execution_count": 72,
   "metadata": {},
   "outputs": [
    {
     "name": "stdout",
     "output_type": "stream",
     "text": [
      "313/313 [==============================] - 2s 7ms/step - loss: 1.3816 - accuracy: 0.6719\n"
     ]
    },
    {
     "data": {
      "text/plain": [
       "0.6718999743461609"
      ]
     },
     "execution_count": 72,
     "metadata": {},
     "output_type": "execute_result"
    }
   ],
   "source": [
    "#show the model Accuracy\n",
    "model.evaluate(x_test,y_test_one_hot)[1]"
   ]
  },
  {
   "cell_type": "code",
   "execution_count": 73,
   "metadata": {},
   "outputs": [
    {
     "name": "stderr",
     "output_type": "stream",
     "text": [
      "WARNING:absl:Found untraced functions such as _jit_compiled_convolution_op, _jit_compiled_convolution_op while saving (showing 2 of 2). These functions will not be directly callable after loading.\n"
     ]
    },
    {
     "name": "stdout",
     "output_type": "stream",
     "text": [
      "INFO:tensorflow:Assets written to: model\\assets\n"
     ]
    },
    {
     "name": "stderr",
     "output_type": "stream",
     "text": [
      "INFO:tensorflow:Assets written to: model\\assets\n"
     ]
    }
   ],
   "source": [
    "#enable this only if you retrained the model again and got better performance\n",
    "#save the trained model in a folder called \"model\" \n",
    "#model.save(\"model\")"
   ]
  },
  {
   "cell_type": "code",
   "execution_count": 74,
   "metadata": {},
   "outputs": [
    {
     "data": {
      "image/png": "[encoded data removed]",
      "text/plain": [
       "<Figure size 432x360 with 1 Axes>"
      ]
     },
     "metadata": {},
     "output_type": "display_data"
    }
   ],
   "source": [
    "\n",
    "plt.figure(figsize=(6, 5))\n",
    "plt.plot(hist.history['accuracy'], color='r')\n",
    "plt.plot(hist.history['val_accuracy'], color='b')\n",
    "plt.title('Model Accuracy')\n",
    "plt.ylabel('accuracy')\n",
    "plt.xlabel('epoch')\n",
    "plt.legend(['train', 'val'], loc='upper left', prop={'size': 14})\n",
    "plt.grid(color = 'y')\n",
    "plt.show()"
   ]
  },
  {
   "cell_type": "code",
   "execution_count": null,
   "metadata": {},
   "outputs": [],
   "source": []
  },
  {
   "cell_type": "code",
   "execution_count": 80,
   "metadata": {},
   "outputs": [],
   "source": [
    "#create the model \n",
    "#the LeNet CNN Model\n",
    "model2 = Sequential()\n",
    "#feature extractor layer\n",
    "model2.add(Conv2D(32, (5,5), activation='relu', input_shape=(32,32,3)))\n",
    "model2.add(MaxPooling2D(pool_size = (2,2),strides=2))\n",
    "model2.add(Conv2D(32, (5,5), activation='relu'))\n",
    "model2.add(MaxPooling2D(pool_size = (2,2)))\n",
    "model2.add(Flatten())\n",
    "model2.add(Dense(1000,activation='relu'))\n",
    "model2.add(Dropout(0.5))\n",
    "model2.add(Dense(500,activation='relu'))\n",
    "model2.add(Dropout(0.5))\n",
    "model2.add(Dense(250,activation='relu'))\n",
    "model2.add(Dense(10,activation='softmax')) #becouse we have 10 catigories \n"
   ]
  },
  {
   "cell_type": "code",
   "execution_count": 81,
   "metadata": {},
   "outputs": [],
   "source": [
    "# compile the model\n",
    "model2.compile(loss ='categorical_crossentropy',\n",
    "              optimizer='adam',\n",
    "              metrics=['accuracy'])"
   ]
  },
  {
   "cell_type": "code",
   "execution_count": 87,
   "metadata": {},
   "outputs": [
    {
     "name": "stdout",
     "output_type": "stream",
     "text": [
      "Epoch 1/8\n",
      "157/157 [==============================] - 17s 110ms/step - loss: 0.7092 - accuracy: 0.7496 - val_loss: 0.9020 - val_accuracy: 0.6872\n",
      "Epoch 2/8\n",
      "157/157 [==============================] - 33s 208ms/step - loss: 0.6657 - accuracy: 0.7637 - val_loss: 0.9020 - val_accuracy: 0.6953\n",
      "Epoch 3/8\n",
      "157/157 [==============================] - 34s 219ms/step - loss: 0.6327 - accuracy: 0.7771 - val_loss: 0.9029 - val_accuracy: 0.6982\n",
      "Epoch 4/8\n",
      "157/157 [==============================] - 32s 204ms/step - loss: 0.5895 - accuracy: 0.7896 - val_loss: 0.9629 - val_accuracy: 0.6875\n",
      "Epoch 5/8\n",
      "157/157 [==============================] - 33s 212ms/step - loss: 0.5448 - accuracy: 0.8065 - val_loss: 0.9490 - val_accuracy: 0.6950\n",
      "Epoch 6/8\n",
      "157/157 [==============================] - 34s 216ms/step - loss: 0.5045 - accuracy: 0.8191 - val_loss: 0.9395 - val_accuracy: 0.6979\n",
      "Epoch 7/8\n",
      "157/157 [==============================] - 32s 203ms/step - loss: 0.4834 - accuracy: 0.8285 - val_loss: 0.9452 - val_accuracy: 0.6985\n",
      "Epoch 8/8\n",
      "157/157 [==============================] - 33s 208ms/step - loss: 0.4555 - accuracy: 0.8361 - val_loss: 1.0215 - val_accuracy: 0.6856\n"
     ]
    }
   ],
   "source": [
    "#train the model \n",
    "\n",
    "hist2 = model2.fit(x_train, \n",
    "                 y_train_one_hot,\n",
    "                 batch_size=256,\n",
    "                 epochs = 8,\n",
    "                 validation_split = 0.2)"
   ]
  },
  {
   "cell_type": "code",
   "execution_count": 84,
   "metadata": {},
   "outputs": [
    {
     "name": "stdout",
     "output_type": "stream",
     "text": [
      "313/313 [==============================] - 3s 10ms/step - loss: 1.1617 - accuracy: 0.6181\n"
     ]
    },
    {
     "data": {
      "text/plain": [
       "0.6180999875068665"
      ]
     },
     "execution_count": 84,
     "metadata": {},
     "output_type": "execute_result"
    }
   ],
   "source": [
    "#show the model Accuracy\n",
    "model2.evaluate(x_test,y_test_one_hot)[1]"
   ]
  },
  {
   "cell_type": "code",
   "execution_count": 92,
   "metadata": {},
   "outputs": [
    {
     "name": "stderr",
     "output_type": "stream",
     "text": [
      "WARNING:absl:Found untraced functions such as _jit_compiled_convolution_op, _jit_compiled_convolution_op while saving (showing 2 of 2). These functions will not be directly callable after loading.\n"
     ]
    },
    {
     "name": "stdout",
     "output_type": "stream",
     "text": [
      "INFO:tensorflow:Assets written to: model2\\assets\n"
     ]
    },
    {
     "name": "stderr",
     "output_type": "stream",
     "text": [
      "INFO:tensorflow:Assets written to: model2\\assets\n"
     ]
    }
   ],
   "source": [
    "#enable this only if you retrained the model again and got better performance\n",
    "#save the trained model in a folder called \"model\" \n",
    "#model.save(\"model2\")"
   ]
  },
  {
   "cell_type": "code",
   "execution_count": 91,
   "metadata": {},
   "outputs": [
    {
     "data": {
      "image/png": "[encoded data removed]",
      "text/plain": [
       "<Figure size 432x360 with 1 Axes>"
      ]
     },
     "metadata": {},
     "output_type": "display_data"
    }
   ],
   "source": [
    "\n",
    "plt.figure(figsize=(6, 5))\n",
    "plt.plot(hist2.history['accuracy'], color='r')\n",
    "plt.plot(hist2.history['val_accuracy'], color='b')\n",
    "plt.title('Model Accuracy')\n",
    "plt.ylabel('accuracy')\n",
    "plt.xlabel('epoch')\n",
    "plt.legend(['train', 'val'], loc='upper left', prop={'size': 14})\n",
    "plt.grid(color = 'y')\n",
    "plt.show()"
   ]
  }
 ],
 "metadata": {
  "kernelspec": {
   "display_name": "Python 3.10.5 64-bit",
   "language": "python",
   "name": "python3"
  },
  "language_info": {
   "codemirror_mode": {
    "name": "ipython",
    "version": 3
   },
   "file_extension": ".py",
   "mimetype": "text/x-python",
   "name": "python",
   "nbconvert_exporter": "python",
   "pygments_lexer": "ipython3",
   "version": "3.10.5"
  },
  "orig_nbformat": 4,
  "vscode": {
   "interpreter": {
    "hash": "c6d3c7e5f23e8b6fe14c2011f3f361a38469365624dd17c3373e0a5bcd27d6bd"
   }
  }
 },
 "nbformat": 4,
 "nbformat_minor": 2
}
