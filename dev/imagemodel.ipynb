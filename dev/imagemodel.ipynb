{
 "cells": [
  {
   "cell_type": "code",
   "execution_count": 27,
   "metadata": {},
   "outputs": [],
   "source": [
    "import keras as tf\n",
    "from tensorflow import keras \n",
    "from keras.models import Sequential\n",
    "from keras.layers import Dense,Flatten,Conv2D, MaxPooling2D, Dropout\n",
    "from keras import layers\n",
    "from keras.utils import to_categorical\n",
    "import numpy as np\n",
    "import matplotlib.pyplot as plt\n",
    "plt.style.use('fivethirtyeight')"
   ]
  },
  {
   "cell_type": "code",
   "execution_count": 28,
   "metadata": {},
   "outputs": [],
   "source": [
    "from keras.datasets import cifar10\n",
    "(x_train,y_train), (x_test,y_test) = cifar10.load_data()"
   ]
  },
  {
   "cell_type": "code",
   "execution_count": 29,
   "metadata": {},
   "outputs": [],
   "source": [
    "from keras.datasets import cifar10\n",
    "(x_train,y_train), (x_test,y_test) = cifar10.load_data()"
   ]
  },
  {
   "cell_type": "code",
   "execution_count": 30,
   "metadata": {},
   "outputs": [
    {
     "name": "stdout",
     "output_type": "stream",
     "text": [
      "(50000, 32, 32, 3)\n",
      "(50000, 1)\n",
      "(10000, 32, 32, 3)\n",
      "(10000, 1)\n"
     ]
    }
   ],
   "source": [
    "print(x_train.shape) #(50000 images, 32pixl, 32pixl, 3 RGB colors)\n",
    "print(y_train.shape) #(50000 rows, 1 label)\n",
    "\n",
    "print(x_test.shape) #(50000 images, 32pixl, 32pixl, 3 RGB colors)\n",
    "print(y_test.shape) #(50000 rows, 1 label)"
   ]
  },
  {
   "cell_type": "code",
   "execution_count": 31,
   "metadata": {},
   "outputs": [
    {
     "name": "stdout",
     "output_type": "stream",
     "text": [
      "image label is: [4]\n"
     ]
    },
    {
     "data": {
      "image/png": "[encoded data removed]",
      "text/plain": [
       "<Figure size 432x288 with 1 Axes>"
      ]
     },
     "metadata": {},
     "output_type": "display_data"
    }
   ],
   "source": [
    "index = 20\n",
    "img = plt.imshow(x_train[20])\n",
    "print('image label is:',y_train[20])"
   ]
  },
  {
   "cell_type": "code",
   "execution_count": 32,
   "metadata": {},
   "outputs": [
    {
     "name": "stdout",
     "output_type": "stream",
     "text": [
      "deer\n"
     ]
    }
   ],
   "source": [
    "classification = ['airplane','autombile','bird','cat','deer','dog','frog','horse','ship','truck']\n",
    "print(classification[y_train[20][0]])"
   ]
  },
  {
   "cell_type": "code",
   "execution_count": 33,
   "metadata": {},
   "outputs": [
    {
     "name": "stdout",
     "output_type": "stream",
     "text": [
      "(50000, 10)\n",
      "(10000, 10)\n"
     ]
    }
   ],
   "source": [
    "y_train_one_hot = to_categorical(y_train)\n",
    "y_test_one_hot = to_categorical(y_test)\n",
    "\n",
    "\n",
    "print(y_train_one_hot.shape)\n",
    "print(y_test_one_hot.shape)\n"
   ]
  },
  {
   "cell_type": "code",
   "execution_count": 34,
   "metadata": {},
   "outputs": [],
   "source": [
    "x_train = x_train/255\n",
    "x_test = x_test/255"
   ]
  },
  {
   "cell_type": "code",
   "execution_count": 35,
   "metadata": {},
   "outputs": [
    {
     "name": "stdout",
     "output_type": "stream",
     "text": [
      "(50000, 32, 32, 3)\n",
      "(10000, 32, 32, 3)\n"
     ]
    }
   ],
   "source": [
    "print(x_train.shape) #(50000 images, 32pixl, 32pixl, 3 RGB colors)\n",
    "print(x_test.shape) #(50000 rows, 1 label)"
   ]
  },
  {
   "cell_type": "code",
   "execution_count": 36,
   "metadata": {},
   "outputs": [
    {
     "data": {
      "text/plain": [
       "array([[[0.6       , 0.61568627, 0.60784314],\n",
       "        [0.68235294, 0.70588235, 0.7372549 ],\n",
       "        [0.60784314, 0.64705882, 0.6745098 ],\n",
       "        ...,\n",
       "        [0.47843137, 0.49019608, 0.48235294],\n",
       "        [0.54117647, 0.56078431, 0.55294118],\n",
       "        [0.38039216, 0.39607843, 0.38039216]],\n",
       "\n",
       "       [[0.62745098, 0.63921569, 0.64705882],\n",
       "        [0.64313725, 0.66666667, 0.70588235],\n",
       "        [0.58823529, 0.62352941, 0.6627451 ],\n",
       "        ...,\n",
       "        [0.5372549 , 0.52941176, 0.50588235],\n",
       "        [0.62745098, 0.63137255, 0.61568627],\n",
       "        [0.40392157, 0.42745098, 0.41960784]],\n",
       "\n",
       "       [[0.54901961, 0.56078431, 0.57647059],\n",
       "        [0.57647059, 0.59607843, 0.65098039],\n",
       "        [0.53333333, 0.56862745, 0.61960784],\n",
       "        ...,\n",
       "        [0.40784314, 0.40392157, 0.38823529],\n",
       "        [0.49019608, 0.50196078, 0.49019608],\n",
       "        [0.36470588, 0.4       , 0.39607843]],\n",
       "\n",
       "       ...,\n",
       "\n",
       "       [[0.68627451, 0.69411765, 0.70196078],\n",
       "        [0.66666667, 0.6745098 , 0.68235294],\n",
       "        [0.66666667, 0.6745098 , 0.68235294],\n",
       "        ...,\n",
       "        [0.75686275, 0.79607843, 0.83137255],\n",
       "        [0.77254902, 0.80784314, 0.83921569],\n",
       "        [0.78039216, 0.8       , 0.83529412]],\n",
       "\n",
       "       [[0.68235294, 0.69411765, 0.70980392],\n",
       "        [0.67843137, 0.69019608, 0.70588235],\n",
       "        [0.67058824, 0.68235294, 0.69803922],\n",
       "        ...,\n",
       "        [0.78431373, 0.81568627, 0.84705882],\n",
       "        [0.79215686, 0.81960784, 0.85490196],\n",
       "        [0.81568627, 0.83137255, 0.86666667]],\n",
       "\n",
       "       [[0.65882353, 0.67843137, 0.70588235],\n",
       "        [0.64313725, 0.6627451 , 0.68627451],\n",
       "        [0.65098039, 0.67058824, 0.69411765],\n",
       "        ...,\n",
       "        [0.8       , 0.81960784, 0.85098039],\n",
       "        [0.8       , 0.81568627, 0.85098039],\n",
       "        [0.80784314, 0.82352941, 0.85882353]]])"
      ]
     },
     "execution_count": 36,
     "metadata": {},
     "output_type": "execute_result"
    }
   ],
   "source": [
    "x_train[index]"
   ]
  },
  {
   "cell_type": "code",
   "execution_count": 37,
   "metadata": {},
   "outputs": [],
   "source": [
    "#create the model \n",
    "\n",
    "model = Sequential()\n",
    "model.add(Conv2D(32, (5,5), activation='relu', input_shape=(32,32,3)))\n",
    "model.add(MaxPooling2D(pool_size = (2,2)))\n",
    "model.add(Conv2D(32, (5,5), activation='relu'))\n",
    "model.add(MaxPooling2D(pool_size = (2,2)))\n",
    "model.add(Flatten())\n",
    "\n",
    "model.add(Dense(1000,activation='relu'))\n",
    "model.add(Dropout(0.5))\n",
    "\n",
    "model.add(Dense(500,activation='relu'))\n",
    "model.add(Dropout(0.5))\n",
    "\n",
    "model.add(Dense(250,activation='relu'))\n",
    "model.add(Dense(10,activation='softmax')) #becouse we have 10 catigories \n"
   ]
  },
  {
   "cell_type": "code",
   "execution_count": 38,
   "metadata": {},
   "outputs": [],
   "source": [
    "model.compile(loss ='categorical_crossentropy',\n",
    "              optimizer='adam',\n",
    "              metrics=['accuracy'])"
   ]
  },
  {
   "cell_type": "code",
   "execution_count": 41,
   "metadata": {},
   "outputs": [
    {
     "name": "stdout",
     "output_type": "stream",
     "text": [
      "Epoch 1/10\n",
      "157/157 [==============================] - 10s 62ms/step - loss: 0.7082 - accuracy: 0.7495 - val_loss: 1.0321 - val_accuracy: 0.6613\n",
      "Epoch 2/10\n",
      "157/157 [==============================] - 11s 70ms/step - loss: 0.6721 - accuracy: 0.7628 - val_loss: 1.0198 - val_accuracy: 0.6638\n",
      "Epoch 3/10\n",
      "157/157 [==============================] - 11s 71ms/step - loss: 0.6301 - accuracy: 0.7769 - val_loss: 0.9928 - val_accuracy: 0.6750\n",
      "Epoch 4/10\n",
      "157/157 [==============================] - 11s 72ms/step - loss: 0.5916 - accuracy: 0.7906 - val_loss: 1.0353 - val_accuracy: 0.6665\n",
      "Epoch 5/10\n",
      "157/157 [==============================] - 11s 73ms/step - loss: 0.5584 - accuracy: 0.8010 - val_loss: 1.0337 - val_accuracy: 0.6700\n",
      "Epoch 6/10\n",
      "157/157 [==============================] - 11s 72ms/step - loss: 0.5334 - accuracy: 0.8110 - val_loss: 1.0462 - val_accuracy: 0.6648\n",
      "Epoch 7/10\n",
      "157/157 [==============================] - 11s 70ms/step - loss: 0.4961 - accuracy: 0.8228 - val_loss: 1.0815 - val_accuracy: 0.6729\n",
      "Epoch 8/10\n",
      "157/157 [==============================] - 11s 69ms/step - loss: 0.4680 - accuracy: 0.8326 - val_loss: 1.0917 - val_accuracy: 0.6703\n",
      "Epoch 9/10\n",
      "157/157 [==============================] - 11s 69ms/step - loss: 0.4510 - accuracy: 0.8418 - val_loss: 1.1392 - val_accuracy: 0.6600\n",
      "Epoch 10/10\n",
      "157/157 [==============================] - 11s 70ms/step - loss: 0.4114 - accuracy: 0.8551 - val_loss: 1.1106 - val_accuracy: 0.6713\n"
     ]
    }
   ],
   "source": [
    "#train the model \n",
    "\n",
    "hist = model.fit(x_train, \n",
    "                 y_train_one_hot,\n",
    "                 batch_size=256,\n",
    "                 epochs = 10,\n",
    "                 validation_split = 0.2)"
   ]
  },
  {
   "cell_type": "code",
   "execution_count": 43,
   "metadata": {},
   "outputs": [
    {
     "name": "stdout",
     "output_type": "stream",
     "text": [
      "313/313 [==============================] - 2s 6ms/step - loss: 1.1321 - accuracy: 0.6598\n"
     ]
    },
    {
     "data": {
      "text/plain": [
       "0.6597999930381775"
      ]
     },
     "execution_count": 43,
     "metadata": {},
     "output_type": "execute_result"
    }
   ],
   "source": [
    "model.evaluate(x_test,y_test_one_hot)[1]"
   ]
  },
  {
   "cell_type": "code",
   "execution_count": 21,
   "metadata": {},
   "outputs": [
    {
     "name": "stderr",
     "output_type": "stream",
     "text": [
      "WARNING:absl:Found untraced functions such as _jit_compiled_convolution_op, _jit_compiled_convolution_op while saving (showing 2 of 2). These functions will not be directly callable after loading.\n"
     ]
    },
    {
     "name": "stdout",
     "output_type": "stream",
     "text": [
      "INFO:tensorflow:Assets written to: model\\assets\n"
     ]
    },
    {
     "name": "stderr",
     "output_type": "stream",
     "text": [
      "INFO:tensorflow:Assets written to: model\\assets\n"
     ]
    }
   ],
   "source": [
    "#model.save(\"model\")"
   ]
  }
 ],
 "metadata": {
  "kernelspec": {
   "display_name": "Python 3.10.5 64-bit",
   "language": "python",
   "name": "python3"
  },
  "language_info": {
   "codemirror_mode": {
    "name": "ipython",
    "version": 3
   },
   "file_extension": ".py",
   "mimetype": "text/x-python",
   "name": "python",
   "nbconvert_exporter": "python",
   "pygments_lexer": "ipython3",
   "version": "3.10.5"
  },
  "orig_nbformat": 4,
  "vscode": {
   "interpreter": {
    "hash": "c6d3c7e5f23e8b6fe14c2011f3f361a38469365624dd17c3373e0a5bcd27d6bd"
   }
  }
 },
 "nbformat": 4,
 "nbformat_minor": 2
}
